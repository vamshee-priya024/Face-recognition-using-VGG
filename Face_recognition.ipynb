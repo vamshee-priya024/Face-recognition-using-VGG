{
  "nbformat": 4,
  "nbformat_minor": 0,
  "metadata": {
    "colab": {
      "name": "Face_recognition.ipynb",
      "provenance": [],
      "collapsed_sections": []
    },
    "kernelspec": {
      "name": "python3",
      "display_name": "Python 3"
    }
  },
  "cells": [
    {
      "cell_type": "code",
      "metadata": {
        "id": "9pI2A8SVhkds",
        "colab_type": "code",
        "outputId": "0d25527d-8a8a-4634-cfbd-38a50cadc383",
        "colab": {
          "base_uri": "https://localhost:8080/",
          "height": 54
        }
      },
      "source": [
        "from google.colab import drive\n",
        "drive.mount('/content/drive')"
      ],
      "execution_count": 0,
      "outputs": [
        {
          "output_type": "stream",
          "text": [
            "Drive already mounted at /content/drive; to attempt to forcibly remount, call drive.mount(\"/content/drive\", force_remount=True).\n"
          ],
          "name": "stdout"
        }
      ]
    },
    {
      "cell_type": "code",
      "metadata": {
        "id": "J-Ed6foVOYFP",
        "colab_type": "code",
        "colab": {}
      },
      "source": [
        "import matplotlib\n",
        "matplotlib.use(\"Agg\")\n",
        "\n",
        "# import the necessary packages\n",
        "from keras.preprocessing.image import ImageDataGenerator\n",
        "from keras.applications import VGG16\n",
        "from keras.layers.core import Dropout\n",
        "from keras.layers.core import Flatten\n",
        "from keras.layers.core import Dense\n",
        "from keras.layers import Input\n",
        "from keras.models import Model\n",
        "from keras.optimizers import SGD\n",
        "from sklearn.metrics import classification_report\n",
        "from imutils import paths\n",
        "import matplotlib.pyplot as plt\n",
        "import numpy as np\n",
        "import pickle\n",
        "import os\n",
        "'''import sys\n",
        "sys.path.insert(0, '/content/drive/My Drive/VGG/pyimagesearch')\n",
        "from pyimagesearch import config\n",
        "\n",
        "def plot_training(H, N, plotPath):\n",
        "\t# construct a plot that plots and saves the training history\n",
        "\tplt.style.use(\"ggplot\")\n",
        "\tplt.figure()\n",
        "\tplt.plot(np.arange(0, N), H.history[\"loss\"], label=\"train_loss\")\n",
        "\tplt.plot(np.arange(0, N), H.history[\"val_loss\"], label=\"val_loss\")\n",
        "\tplt.plot(np.arange(0, N), H.history[\"acc\"], label=\"train_acc\")\n",
        "\tplt.plot(np.arange(0, N), H.history[\"val_acc\"], label=\"val_acc\")\n",
        "\tplt.title(\"Training Loss and Accuracy\")\n",
        "\tplt.xlabel(\"Epoch #\")\n",
        "\tplt.ylabel(\"Loss/Accuracy\")\n",
        "\tplt.legend(loc=\"lower left\")\n",
        "\tplt.savefig(plotPath)\n",
        "'''\n",
        "# derive the paths to the training, validation, and testing\n",
        "# directories\n",
        "trainPath = '/content/drive/My Drive/Face_Recognition/Training'\n",
        "#os.path.sep.join([config.BASE_PATH, config.TRAIN])\n",
        "valPath = '/content/drive/My Drive/Face_Recognition/val'\n",
        "#os.path.sep.join([config.BASE_PATH, config.VAL])\n",
        "testPath = '/content/drive/My Drive/Face_Recognition/testing'\n",
        "#os.path.sep.join([config.BASE_PATH, config.TEST])\n",
        "\n",
        "# determine the total number of image paths in training, validation,\n",
        "# and testing directories\n",
        "totalTrain = len(list(paths.list_images(trainPath)))\n",
        "totalVal = len(list(paths.list_images(valPath)))\n",
        "totalTest = len(list(paths.list_images(testPath)))\n",
        "\n",
        "# initialize the training data augmentation object\n",
        "trainAug = ImageDataGenerator(\n",
        "\trotation_range=30,\n",
        "\tzoom_range=0.15,\n",
        "\twidth_shift_range=0.2,\n",
        "\theight_shift_range=0.2,\n",
        "\tshear_range=0.15,\n",
        "\thorizontal_flip=True,\n",
        "\tfill_mode=\"nearest\")\n",
        "\n",
        "# initialize the validation/testing data augmentation object (which\n",
        "# we'll be adding mean subtraction to)\n",
        "valAug = ImageDataGenerator()\n",
        "\n",
        "# define the ImageNet mean subtraction (in RGB order) and set the\n",
        "# the mean subtraction value for each of the data augmentation\n",
        "# objects\n",
        "mean = np.array([123.68, 116.779, 103.939], dtype=\"float32\")\n",
        "trainAug.mean = mean\n",
        "valAug.mean = mean\n",
        "\n",
        "# initialize the training generator\n",
        "trainGen = trainAug.flow_from_directory(\n",
        "\ttrainPath,\n",
        "\tclass_mode=\"categorical\",\n",
        "\ttarget_size=(224, 224),\n",
        "\tcolor_mode=\"rgb\",\n",
        "\tshuffle=True,\n",
        "\tbatch_size=32)\n",
        "\n",
        "# initialize the validation generator\n",
        "valGen = valAug.flow_from_directory(\n",
        "\tvalPath,\n",
        "\tclass_mode=\"categorical\",\n",
        "\ttarget_size=(224, 224),\n",
        "\tcolor_mode=\"rgb\",\n",
        "\tshuffle=False,\n",
        "\tbatch_size=32)\n",
        "\n",
        "# initialize the testing generator\n",
        "testGen = valAug.flow_from_directory(\n",
        "\ttestPath,\n",
        "\tclass_mode=\"categorical\",\n",
        "\ttarget_size=(224, 224),\n",
        "\tcolor_mode=\"rgb\",\n",
        "\tshuffle=False,\n",
        "\tbatch_size=32)\n",
        "\n",
        "# load the VGG16 network, ensuring the head FC layer sets are left\n",
        "# off\n",
        "baseModel = VGG16(weights=\"imagenet\", include_top=False,\n",
        "\tinput_tensor=Input(shape=(224, 224, 3)))\n",
        "\n",
        "# construct the head of the model that will be placed on top of the\n",
        "# the base model\n",
        "headModel = baseModel.output\n",
        "headModel = Flatten(name=\"flatten\")(headModel)\n",
        "headModel = Dense(512, activation=\"relu\")(headModel)\n",
        "headModel = Dropout(0.5)(headModel)\n",
        "headModel = Dense(6, activation=\"softmax\")(headModel)\n",
        "\n",
        "# place the head FC model on top of the base model (this will become\n",
        "# the actual model we will train)\n",
        "model = Model(inputs=baseModel.input, outputs=headModel)\n",
        "\n",
        "# loop over all layers in the base model and freeze them so they will\n",
        "# *not* be updated during the first training process\n",
        "for layer in baseModel.layers:\n",
        "\tlayer.trainable = False\n",
        "\n",
        "# compile our model (this needs to be done after our setting our\n",
        "# layers to being non-trainable\n",
        "print(\"[INFO] compiling model...\")\n",
        "opt = SGD(lr=1e-4, momentum=0.9)\n",
        "model.compile(loss=\"categorical_crossentropy\", optimizer=opt,\n",
        "\tmetrics=[\"accuracy\"])\n",
        "\n",
        "# train the head of the network for a few epochs (all other layers\n",
        "# are frozen) -- this will allow the new FC layers to start to become\n",
        "# initialized with actual \"learned\" values versus pure random\n",
        "print(\"[INFO] training head...\")\n",
        "H = model.fit_generator(\n",
        "\ttrainGen,\n",
        "\tsteps_per_epoch=40,\n",
        "\tvalidation_data=valGen,\n",
        "\tvalidation_steps=5,\n",
        "\tepochs=5)\n",
        "\n",
        "# reset the testing generator and evaluate the network after\n",
        "# fine-tuning just the network head\n",
        "print(\"[INFO] evaluating after fine-tuning network head...\")\n",
        "testGen.reset()\n",
        "predIdxs = model.predict_generator(testGen,\tsteps=5)\n",
        "predIdxs = np.argmax(predIdxs, axis=1)\n",
        "\n",
        "#predIdxs = np.argmax(predIdxs, axis=1)\n",
        "#print(classification_report(testGen.classes, predIdxs,target_names=testGen.class_indices.keys()))\n",
        "#plot_training(H, 50, config.WARMUP_PLOT_PATH)\n",
        "\n",
        "# reset our data generators\n",
        "trainGen.reset()\n",
        "valGen.reset()\n",
        "\n",
        "# now that the head FC layers have been trained/initialized, lets\n",
        "# unfreeze the final set of CONV layers and make them trainable\n",
        "for layer in baseModel.layers[15:]:\n",
        "\tlayer.trainable = True\n",
        "\n",
        "# loop over the layers in the model and show which ones are trainable\n",
        "# or not\n",
        "for layer in baseModel.layers:\n",
        "\tprint(\"{}: {}\".format(layer, layer.trainable))\n",
        "\n",
        "# for the changes to the model to take affect we need to recompile\n",
        "# the model, this time using SGD with a *very* small learning rate\n",
        "print(\"[INFO] re-compiling model...\")\n",
        "opt = SGD(lr=1e-4, momentum=0.9)\n",
        "model.compile(loss=\"categorical_crossentropy\", optimizer=opt,\n",
        "\tmetrics=[\"accuracy\"])\n",
        "\n",
        "# train the model again, this time fine-tuning *both* the final set\n",
        "# of CONV layers along with our set of FC layers\n",
        "H = model.fit_generator(\n",
        "\ttrainGen,\n",
        "\tsteps_per_epoch=40,\n",
        "\tvalidation_data=valGen,\n",
        "\tvalidation_steps=5,\n",
        "\tepochs=5)\n",
        "\n",
        "# reset the testing generator and then use our trained model to\n",
        "# make predictions on the data\n",
        "print(\"[INFO] evaluating after fine-tuning network...\")\n",
        "testGen.reset()\n",
        "predIdxs = model.predict_generator(testGen,steps=5)\n",
        "predIdxs = np.argmax(predIdxs, axis=1)\n",
        "#print(classification_report(testGen.classes, predIdxs,\n",
        "#\ttarget_names=testGen.class_indices.keys()))\n",
        "#plot_training(H, 20, config.UNFROZEN_PLOT_PATH)\n",
        "\n"
      ],
      "execution_count": 0,
      "outputs": []
    },
    {
      "cell_type": "code",
      "metadata": {
        "id": "bVjvt-kWjhbQ",
        "colab_type": "code",
        "outputId": "4869016a-cbe2-4947-f22c-0351bada75b9",
        "colab": {
          "base_uri": "https://localhost:8080/",
          "height": 119
        }
      },
      "source": [
        "trainGen.class_indices"
      ],
      "execution_count": 0,
      "outputs": [
        {
          "output_type": "execute_result",
          "data": {
            "text/plain": [
              "{'Emilia Clarke_train': 0,\n",
              " 'Hanan_train': 1,\n",
              " 'Kulin_train': 2,\n",
              " 'Mohit_train': 3,\n",
              " 'Rohan_train': 4,\n",
              " 'Siddhartha_train': 5}"
            ]
          },
          "metadata": {
            "tags": []
          },
          "execution_count": 9
        }
      ]
    },
    {
      "cell_type": "code",
      "metadata": {
        "id": "Izko8WG_E9ZL",
        "colab_type": "code",
        "colab": {}
      },
      "source": [
        "Classes=['Emilia Clarke','Hanan','Kulin','Mohit','Rohan','Siddhartha']"
      ],
      "execution_count": 0,
      "outputs": []
    },
    {
      "cell_type": "code",
      "metadata": {
        "id": "ObZ3eGI7H6jt",
        "colab_type": "code",
        "colab": {}
      },
      "source": [
        "model.save('face_model.h5')"
      ],
      "execution_count": 0,
      "outputs": []
    },
    {
      "cell_type": "code",
      "metadata": {
        "id": "byvfdy67EvJq",
        "colab_type": "code",
        "outputId": "94b7fd27-e412-47d4-8e98-ae7ff430c0c1",
        "colab": {
          "base_uri": "https://localhost:8080/",
          "height": 34
        }
      },
      "source": [
        "import numpy as np\n",
        "from google.colab.patches import cv2_imshow\n",
        "from keras.preprocessing import image\n",
        "test_image = image.load_img('/content/drive/My Drive/Face_Recognition/Prediction/Copy of Emilia Clarke1.jpg', target_size = (224, 224))\n",
        "test_image = image.img_to_array(test_image)\n",
        "#test_image = np.expand_dims(test_image, axis = 0)\n",
        "#result = classifier.predict(test_image)\n",
        "#print(result)\n",
        "#training_set.class_indices\n",
        "#if result == 0:\n",
        "m_model = load_model('/content/drive/My Drive/Face_Recognition/face_model.h5')\n",
        "\n",
        "# pass the image through the network to obtain our predictions\n",
        "preds = m_model.predict(np.expand_dims(test_image, axis=0))[0]\n",
        "i = np.argmax(preds)\n",
        "label = Classes[i]\n",
        "'''\n",
        "if(i<3):\n",
        "  label = Classes[i]\n",
        "  print(label)\n",
        "else:\n",
        "  print(\"Unknown\")\n",
        "'''"
      ],
      "execution_count": 0,
      "outputs": [
        {
          "output_type": "execute_result",
          "data": {
            "text/plain": [
              "'\\nif(i<3):\\n  label = Classes[i]\\n  print(label)\\nelse:\\n  print(\"Unknown\")\\n'"
            ]
          },
          "metadata": {
            "tags": []
          },
          "execution_count": 25
        }
      ]
    },
    {
      "cell_type": "code",
      "metadata": {
        "id": "YOX_A1paJBdc",
        "colab_type": "code",
        "colab": {}
      },
      "source": [
        "from keras.models import load_model\n",
        "import numpy as np\n",
        "import argparse\n",
        "import imutils\n",
        "import cv2"
      ],
      "execution_count": 0,
      "outputs": []
    },
    {
      "cell_type": "code",
      "metadata": {
        "id": "CZVTXzYWRGg3",
        "colab_type": "code",
        "outputId": "b3e83e19-38a3-42a6-8b9d-3f127efbcf4d",
        "colab": {
          "base_uri": "https://localhost:8080/",
          "height": 258
        }
      },
      "source": [
        "text = \"{}: {:.2f}%\".format(label, preds[i] * 100)\n",
        "cv2.putText(test_image, text, (3, 20), cv2.FONT_HERSHEY_SIMPLEX, 0.5,(0, 255, 0), 2)\n",
        "# show the output image\n",
        "cv2_imshow(test_image)\n",
        "cv2.waitKey(0)"
      ],
      "execution_count": 0,
      "outputs": [
        {
          "output_type": "display_data",
          "data": {
            "image/png": "[encoded data removed]",
            "text/plain": [
              "<PIL.Image.Image image mode=RGB size=224x224 at 0x7FC641521A58>"
            ]
          },
          "metadata": {
            "tags": []
          }
        },
        {
          "output_type": "execute_result",
          "data": {
            "text/plain": [
              "-1"
            ]
          },
          "metadata": {
            "tags": []
          },
          "execution_count": 27
        }
      ]
    },
    {
      "cell_type": "code",
      "metadata": {
        "id": "vq-vjEhCmfAh",
        "colab_type": "code",
        "colab": {}
      },
      "source": [
        ""
      ],
      "execution_count": 0,
      "outputs": []
    }
  ]
}